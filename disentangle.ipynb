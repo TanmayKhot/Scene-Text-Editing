{
 "cells": [
  {
   "cell_type": "code",
   "execution_count": 118,
   "metadata": {
    "id": "95KPloxzR5n-"
   },
   "outputs": [],
   "source": [
    "import numpy as np\n",
    "import torch\n",
    "import torch.nn as nn\n",
    "import torch.nn.functional as F\n",
    "import torch.optim as optim\n",
    "import matplotlib.pyplot as plt\n",
    "from torch.utils.data.sampler import SubsetRandomSampler\n",
    "from torch.utils.data import DataLoader\n",
    "from torchvision import datasets, transforms\n",
    "import matplotlib.pyplot as plt\n",
    "%matplotlib inline\n",
    "import torch.nn as nn\n",
    "import torch.nn.functional as F\n",
    "\n",
    "import cv2\n",
    "torch.set_printoptions(precision=10)\n",
    "\n",
    "from IPython.display import display\n",
    "from PIL import Image\n"
   ]
  },
  {
   "cell_type": "code",
   "execution_count": 119,
   "metadata": {
    "id": "r4gqLMcDTWae"
   },
   "outputs": [
    {
     "name": "stdout",
     "output_type": "stream",
     "text": [
      "torch.Size([1, 3, 64, 64]) torch.Size([1, 3, 64, 64]) torch.Size([1, 1, 64, 64])\n",
      "torch.float32 torch.float32 torch.float32\n"
     ]
    }
   ],
   "source": [
    "#load image\n",
    "true_image = cv2.imread(\"coloured.jpg\")\n",
    "true_mask = cv2.imread(\"mask.jpg\")\n",
    "#m3 = cv2.merge((m,m,m))\n",
    "\n",
    "#preprocess image\n",
    "transform = transforms.Compose(\n",
    "    [transforms.ToTensor()\n",
    "     ])\n",
    "\n",
    "def inverse_normalization(x):\n",
    "    x *= 255 \n",
    "    x = torch.clamp(x, 0, 255)\n",
    "    #x = x.numpy()\n",
    "    return x\n",
    "\n",
    "# print(true_image.shape, true_mask.shape)\n",
    "# true_image_tensor = torch.from_numpy(true_image).float()\n",
    "# true_image_tensor = true_image_tensor.permute(2,0,1)\n",
    "# true_mask_tensor = torch.from_numpy(true_mask).float()\n",
    "# true_mask_tensor = true_mask_tensor.permute(2,0,1)\n",
    "\n",
    "input_image = transform(true_image).unsqueeze(0)\n",
    "gt_image = input_image.clone()\n",
    "gt_mask = transform(true_mask).unsqueeze(0)\n",
    "gt_mask = gt_mask.mean(axis=1).unsqueeze(0)\n",
    "print(input_image.shape, gt_image.shape, gt_mask.shape)\n",
    "print(input_image.dtype, gt_image.dtype, gt_mask.dtype)\n",
    "\n",
    "#Normalize 0 to 1"
   ]
  },
  {
   "cell_type": "code",
   "execution_count": 120,
   "metadata": {
    "colab": {
     "base_uri": "https://localhost:8080/"
    },
    "id": "zOnW20xdUCwJ",
    "outputId": "12c24c1b-5c07-4031-dd3f-bb16ad9044d6",
    "scrolled": true
   },
   "outputs": [
    {
     "data": {
      "text/plain": [
       "(tensor(0.), tensor(0.9098039269))"
      ]
     },
     "execution_count": 120,
     "metadata": {},
     "output_type": "execute_result"
    }
   ],
   "source": [
    "input_image.min(), input_image.max()"
   ]
  },
  {
   "cell_type": "code",
   "execution_count": 121,
   "metadata": {},
   "outputs": [
    {
     "data": {
      "text/plain": [
       "(tensor(0.), tensor(0.9098039269))"
      ]
     },
     "execution_count": 121,
     "metadata": {},
     "output_type": "execute_result"
    }
   ],
   "source": [
    "gt_image.min(), gt_image.max()"
   ]
  },
  {
   "cell_type": "code",
   "execution_count": 122,
   "metadata": {},
   "outputs": [
    {
     "data": {
      "text/plain": [
       "(tensor(0.), tensor(1.), torch.Size([1, 1, 64, 64]))"
      ]
     },
     "execution_count": 122,
     "metadata": {},
     "output_type": "execute_result"
    }
   ],
   "source": [
    "gt_mask.min(), gt_mask.max(), gt_mask.shape"
   ]
  },
  {
   "cell_type": "code",
   "execution_count": 123,
   "metadata": {},
   "outputs": [],
   "source": [
    "#true_mask_tensor.min(), true_mask_tensor.max()\n"
   ]
  },
  {
   "cell_type": "code",
   "execution_count": null,
   "metadata": {},
   "outputs": [],
   "source": []
  },
  {
   "cell_type": "code",
   "execution_count": null,
   "metadata": {},
   "outputs": [],
   "source": []
  },
  {
   "cell_type": "code",
   "execution_count": 124,
   "metadata": {
    "id": "JeBy36OJTcP9"
   },
   "outputs": [],
   "source": [
    "class encoder(nn.Module):\n",
    "        def __init__(self):\n",
    "                super(encoder, self).__init__()\n",
    "                self.conv1 = nn.Conv2d(3,64, kernel_size=3)\n",
    "                self.conv2 = nn.Conv2d(64,32, kernel_size=3)\n",
    "                self.conv3 = nn.Conv2d(32,16, kernel_size=3)\n",
    "                \n",
    "                self.conv1d1 = nn.Conv1d(16*58*58, 1024, kernel_size=1)\n",
    "                self.conv1d2 = nn.Conv1d(1024,512, kernel_size=1)\n",
    "                self.conv1d3 = nn.Conv1d(512,256, kernel_size=1)\n",
    "\n",
    "                self.upconv1 = nn.ConvTranspose2d(16, 32, kernel_size=3, stride=1)\n",
    "                self.upconv2 = nn.ConvTranspose2d(32, 64, kernel_size=3, stride=1)\n",
    "                self.upconv3 = nn.ConvTranspose2d(64, 1, kernel_size=3, stride=1)\n",
    "                \n",
    "   \n",
    "        def forward(self,x):\n",
    "                #Encodings\n",
    "                x = F.relu(self.conv1(x))\n",
    "                x = F.relu(self.conv2(x))\n",
    "                x = F.relu(self.conv3(x))\n",
    "                #print(\"X shape\", x.shape) # torch.Size([1, 16, 58, 58])\n",
    "                \n",
    "                #Style vector\n",
    "                x_style = torch.flatten(x,1)\n",
    "                x_style = x_style.unsqueeze(-1)\n",
    "                x_style = F.relu(self.conv1d1(x_style))\n",
    "                x_style = F.relu(self.conv1d2(x_style))\n",
    "                x_style = F.relu(self.conv1d3(x_style))\n",
    "                #print(\"Final X_Style: \", x_style.shape)\n",
    "\n",
    "                #Image \n",
    "                x_image = F.relu(self.upconv1(x))\n",
    "                x_image = F.relu(self.upconv2(x_image))\n",
    "                x_image = self.upconv3(x_image)\n",
    "            \n",
    "#                 x_style = inverse_normalization(x_style)\n",
    "#                 x_image = inverse_normalization(x_image)\n",
    "                \n",
    "#                 x_image = inverse_normalization(x_image)\n",
    "                \n",
    "                return x_style, x_image\n",
    "\n",
    "\n",
    "\n"
   ]
  },
  {
   "cell_type": "code",
   "execution_count": 280,
   "metadata": {
    "id": "5c9YiNG57qEQ"
   },
   "outputs": [],
   "source": [
    "\n",
    "class decoder(nn.Module):\n",
    "        def __init__(self):\n",
    "              super(decoder, self).__init__()\n",
    "                  \n",
    "              #Convert style for concat\n",
    "              self.conv1d0 = nn.Conv1d(256,512, kernel_size=1)\n",
    "\n",
    "              #Convert image for concat\n",
    "              self.conv1 = nn.Conv2d(1,64, kernel_size=3)\n",
    "              self.conv2 = nn.Conv2d(64,32, kernel_size=3)\n",
    "              self.conv3 = nn.Conv2d(32,16, kernel_size=3)\n",
    "              self.conv1d1 = nn.Conv1d(16*58*58, 1024, kernel_size=1)\n",
    "              self.conv1d2 = nn.Conv1d(1024,512, kernel_size=1)\n",
    "\n",
    "              #Convert image\n",
    "              self.conv1d3 = nn.Conv1d(1024, 1024, kernel_size=1)\n",
    "              self.conv1d4 = nn.Conv1d(1024, 1024, kernel_size=1)\n",
    "\n",
    "              #Using Upsample + Upconv\n",
    "   \n",
    "              self.upsample1 = nn.Upsample(scale_factor=2,mode='nearest')\n",
    "              self.upconv1 = nn.ConvTranspose2d(16, 16, 1, stride=1)\n",
    "              self.upsample2 = nn.Upsample(scale_factor=2,mode='nearest')\n",
    "              self.upconv2 = nn.ConvTranspose2d(16, 16, 1, stride=1)              \n",
    "              self.upsample3 = nn.Upsample(scale_factor=2,mode='nearest')\n",
    "              self.upconv3 = nn.ConvTranspose2d(16, 3, 1, stride=1)\n",
    "       \n",
    "              \n",
    "                \n",
    "\n",
    "        def forward(self,x_style,x_image):\n",
    "              \n",
    "#               x_image /= 255.0 \n",
    "              #x_style = torch.from_numpy(x_style)\n",
    "              #x_image = torch.from_numpy(x_image)\n",
    "                \n",
    "              x1 = F.relu(self.conv1d0(x_style)) # 512 style\n",
    "            \n",
    "              x2 = F.relu(self.conv1(x_image))\n",
    "              x2 = F.relu(self.conv2(x2))\n",
    "              x2 = F.relu(self.conv3(x2))\n",
    "              x2 = torch.flatten(x2, 1)\n",
    "              x2 = x2.unsqueeze(-1)\n",
    "              x2 = F.relu(self.conv1d1(x2))\n",
    "              x2 = F.relu(self.conv1d2(x2))     # 512 image\n",
    "\n",
    "              x = torch.cat([x1,x2], dim=1) #Linear concatenate, output = [1,1024]\n",
    "\n",
    "              x = F.relu(self.conv1d3(x))\n",
    "              x = F.relu(self.conv1d4(x))\n",
    "              x = (torch.reshape(x, (16,8,8))).unsqueeze(dim=0)\n",
    "\n",
    "              x = self.upsample1(x)\n",
    "              x = F.relu(self.upconv1(x))\n",
    "              x = self.upsample2(x)\n",
    "              x = F.relu(self.upconv2(x))\n",
    "              x = self.upsample3(x)\n",
    "              x = self.upconv3(x)\n",
    "\n",
    "#               x = inverse_normalization(x)\n",
    "            \n",
    "              return x\n"
   ]
  },
  {
   "cell_type": "code",
   "execution_count": 126,
   "metadata": {
    "id": "36EonbuHBXJy"
   },
   "outputs": [],
   "source": [
    "class MyModel(nn.Module):\n",
    "    def __init__(self, enc, dec):\n",
    "      super(MyModel, self).__init__()\n",
    "      self.enc = enc\n",
    "      self.dec = dec\n",
    "\n",
    "    def forward(self, x):\n",
    "      style, output_mask = self.enc(x)\n",
    "      output_img = self.dec(style, output_mask)\n",
    "      return output_img, output_mask\n"
   ]
  },
  {
   "cell_type": "code",
   "execution_count": 127,
   "metadata": {
    "id": "S2TeS2G_XwCJ"
   },
   "outputs": [],
   "source": [
    "enc = encoder()\n",
    "dec = decoder()\n",
    "model = MyModel(enc,dec)\n",
    "\n",
    "\n",
    "criterion = nn.MSELoss()\n",
    "optimizer = optim.Adam(model.parameters(), lr=0.001)\n"
   ]
  },
  {
   "cell_type": "code",
   "execution_count": 129,
   "metadata": {},
   "outputs": [],
   "source": [
    "#for g in optimizer.param_groups:\n",
    "#    g['lr'] = 1e-4\n"
   ]
  },
  {
   "cell_type": "code",
   "execution_count": 166,
   "metadata": {
    "colab": {
     "base_uri": "https://localhost:8080/",
     "height": 408
    },
    "id": "Yjh8fybjWdfk",
    "outputId": "8bdcb7a2-9b12-45fc-85eb-7f8e46a0313f",
    "scrolled": true
   },
   "outputs": [
    {
     "name": "stdout",
     "output_type": "stream",
     "text": [
      "Epoch = 150 | loss_total = 0.090 , loss_mask = 0.004, loss_style = 0.086\n",
      "Epoch = 151 | loss_total = 0.089 , loss_mask = 0.004, loss_style = 0.086\n",
      "Epoch = 152 | loss_total = 0.089 , loss_mask = 0.004, loss_style = 0.085\n",
      "Epoch = 153 | loss_total = 0.088 , loss_mask = 0.004, loss_style = 0.085\n",
      "Epoch = 154 | loss_total = 0.088 , loss_mask = 0.004, loss_style = 0.084\n"
     ]
    }
   ],
   "source": [
    "\n",
    "for epoch in range(150,155):\n",
    "    #Training Encoder\n",
    "    optimizer.zero_grad() \n",
    "    out_image, out_mask = model(input_image)\n",
    "\n",
    "#     print(out_image.shape, out_mask.shape)\n",
    "#     print(gt_image.shape, gt_mask.shape)\n",
    "#     print(out_image.dtype, out_mask.dtype)\n",
    "#     print(gt_image.dtype, gt_mask.dtype)\n",
    "\n",
    "    loss_mask = criterion(out_mask.squeeze(0), gt_mask)\n",
    "    loss_style = criterion(out_image.squeeze(0), gt_image)\n",
    "    total_loss = loss_mask + loss_style\n",
    "\n",
    "#     print(total_loss.item())\n",
    "#     if epoch % 5 == 0:\n",
    "#     print(\"Epoch:\", epoch, \" Loss_mask: {:.3f} Loss style: {:.3f} \".format(loss_mask.item(), loss_style.item()))\n",
    "    print(f'Epoch = {epoch} | loss_total = {total_loss.item():.3f} , loss_mask = {loss_mask.item():.3f}, loss_style = {loss_style.item():.3f}')\n",
    "\n",
    "    total_loss.backward()\n",
    "    optimizer.step()\n",
    "\n"
   ]
  },
  {
   "cell_type": "code",
   "execution_count": 270,
   "metadata": {},
   "outputs": [],
   "source": [
    "out_image, out_mask = model(input_image)\n",
    "out_image, out_mask = out_image.detach(), out_mask.detach()\n",
    "out_image, out_mask = torch.clamp(out_image, 0, 1), torch.clamp(out_mask, 0, 1)\n",
    "# out_image = (out_image - out_image.min()) / (out_image.max() - out_image.min())\n",
    "# out_mask = (out_mask - out_mask.min()) / (out_mask.max() - out_mask.min())"
   ]
  },
  {
   "cell_type": "code",
   "execution_count": 271,
   "metadata": {
    "scrolled": true
   },
   "outputs": [
    {
     "data": {
      "text/plain": [
       "(tensor(0.), tensor(0.7761616707), tensor(0.), tensor(1.))"
      ]
     },
     "execution_count": 271,
     "metadata": {},
     "output_type": "execute_result"
    }
   ],
   "source": [
    "out_image.min(), out_image.max(), out_mask.min(), out_mask.max()"
   ]
  },
  {
   "cell_type": "code",
   "execution_count": 272,
   "metadata": {},
   "outputs": [],
   "source": [
    "#out_image = out_image.squeeze() * 255\n",
    "#out_mask = out_mask.squeeze() * 255"
   ]
  },
  {
   "cell_type": "code",
   "execution_count": 273,
   "metadata": {},
   "outputs": [
    {
     "data": {
      "text/plain": [
       "(torch.Size([3, 64, 64]), torch.float32)"
      ]
     },
     "execution_count": 273,
     "metadata": {},
     "output_type": "execute_result"
    }
   ],
   "source": [
    "gt_image.squeeze().shape, gt_image.dtype"
   ]
  },
  {
   "cell_type": "code",
   "execution_count": 274,
   "metadata": {},
   "outputs": [
    {
     "data": {
      "text/plain": [
       "(torch.Size([3, 64, 64]), torch.float32)"
      ]
     },
     "execution_count": 274,
     "metadata": {},
     "output_type": "execute_result"
    }
   ],
   "source": [
    "out_image.squeeze().shape, out_image.dtype"
   ]
  },
  {
   "cell_type": "code",
   "execution_count": 275,
   "metadata": {},
   "outputs": [
    {
     "data": {
      "image/png": "[encoded data removed]",
      "text/plain": [
       "<PIL.Image.Image image mode=RGB size=64x64 at 0x7FD65B7ED790>"
      ]
     },
     "execution_count": 275,
     "metadata": {},
     "output_type": "execute_result"
    }
   ],
   "source": [
    "transforms.ToPILImage()(gt_image.squeeze())"
   ]
  },
  {
   "cell_type": "code",
   "execution_count": 276,
   "metadata": {},
   "outputs": [
    {
     "data": {
      "image/png": "[encoded data removed]",
      "text/plain": [
       "<PIL.Image.Image image mode=RGB size=64x64 at 0x7FD65B835AF0>"
      ]
     },
     "execution_count": 276,
     "metadata": {},
     "output_type": "execute_result"
    }
   ],
   "source": [
    "transforms.ToPILImage()(out_image.squeeze())"
   ]
  },
  {
   "cell_type": "code",
   "execution_count": 277,
   "metadata": {},
   "outputs": [
    {
     "data": {
      "image/png": "[encoded data removed]",
      "text/plain": [
       "<PIL.Image.Image image mode=L size=64x64 at 0x7FD63DA32A90>"
      ]
     },
     "execution_count": 277,
     "metadata": {},
     "output_type": "execute_result"
    }
   ],
   "source": [
    "transforms.ToPILImage()(out_mask.squeeze())"
   ]
  },
  {
   "cell_type": "code",
   "execution_count": 22,
   "metadata": {
    "id": "bETcuyRuWJ2z"
   },
   "outputs": [
    {
     "ename": "NameError",
     "evalue": "name 'output_image' is not defined",
     "output_type": "error",
     "traceback": [
      "\u001b[0;31m---------------------------------------------------------------------------\u001b[0m",
      "\u001b[0;31mNameError\u001b[0m                                 Traceback (most recent call last)",
      "\u001b[0;32m<ipython-input-22-7e4f69faf146>\u001b[0m in \u001b[0;36m<module>\u001b[0;34m\u001b[0m\n\u001b[1;32m      1\u001b[0m \u001b[0;31m#Convert tensors to images\u001b[0m\u001b[0;34m\u001b[0m\u001b[0;34m\u001b[0m\u001b[0;34m\u001b[0m\u001b[0m\n\u001b[1;32m      2\u001b[0m \u001b[0;34m\u001b[0m\u001b[0m\n\u001b[0;32m----> 3\u001b[0;31m \u001b[0mresult_image\u001b[0m \u001b[0;34m=\u001b[0m \u001b[0mtransforms\u001b[0m\u001b[0;34m.\u001b[0m\u001b[0mToPILImage\u001b[0m\u001b[0;34m(\u001b[0m\u001b[0;34m)\u001b[0m\u001b[0;34m(\u001b[0m\u001b[0moutput_image\u001b[0m\u001b[0;34m.\u001b[0m\u001b[0msqueeze\u001b[0m\u001b[0;34m(\u001b[0m\u001b[0;36m0\u001b[0m\u001b[0;34m)\u001b[0m\u001b[0;34m)\u001b[0m\u001b[0;34m\u001b[0m\u001b[0;34m\u001b[0m\u001b[0m\n\u001b[0m\u001b[1;32m      4\u001b[0m \u001b[0mresult_mask\u001b[0m \u001b[0;34m=\u001b[0m \u001b[0mtransforms\u001b[0m\u001b[0;34m.\u001b[0m\u001b[0mToPILImage\u001b[0m\u001b[0;34m(\u001b[0m\u001b[0;34m)\u001b[0m\u001b[0;34m(\u001b[0m\u001b[0moutput_mask\u001b[0m\u001b[0;34m.\u001b[0m\u001b[0msqueeze\u001b[0m\u001b[0;34m(\u001b[0m\u001b[0;36m0\u001b[0m\u001b[0;34m)\u001b[0m\u001b[0;34m)\u001b[0m\u001b[0;34m\u001b[0m\u001b[0;34m\u001b[0m\u001b[0m\n\u001b[1;32m      5\u001b[0m \u001b[0moriginal_mask\u001b[0m \u001b[0;34m=\u001b[0m \u001b[0mtransforms\u001b[0m\u001b[0;34m.\u001b[0m\u001b[0mToPILImage\u001b[0m\u001b[0;34m(\u001b[0m\u001b[0;34m)\u001b[0m\u001b[0;34m(\u001b[0m\u001b[0mtrue_mask\u001b[0m\u001b[0;34m.\u001b[0m\u001b[0msqueeze\u001b[0m\u001b[0;34m(\u001b[0m\u001b[0;36m0\u001b[0m\u001b[0;34m)\u001b[0m\u001b[0;34m)\u001b[0m\u001b[0;34m\u001b[0m\u001b[0;34m\u001b[0m\u001b[0m\n",
      "\u001b[0;31mNameError\u001b[0m: name 'output_image' is not defined"
     ]
    }
   ],
   "source": [
    "#Convert tensors to images\n",
    "\n",
    "result_image = transforms.ToPILImage()(output_image.squeeze(0))\n",
    "result_mask = transforms.ToPILImage()(output_mask.squeeze(0))\n",
    "original_mask = transforms.ToPILImage()(true_mask.squeeze(0))\n",
    "original_image = transforms.ToPILImage()(true_image.squeeze(0))"
   ]
  },
  {
   "cell_type": "code",
   "execution_count": null,
   "metadata": {},
   "outputs": [],
   "source": []
  }
 ],
 "metadata": {
  "colab": {
   "name": "disentangle.ipynb",
   "provenance": []
  },
  "kernelspec": {
   "display_name": "vocc",
   "language": "python",
   "name": "vocc"
  },
  "language_info": {
   "codemirror_mode": {
    "name": "ipython",
    "version": 3
   },
   "file_extension": ".py",
   "mimetype": "text/x-python",
   "name": "python",
   "nbconvert_exporter": "python",
   "pygments_lexer": "ipython3",
   "version": "3.8.5"
  }
 },
 "nbformat": 4,
 "nbformat_minor": 1
}
