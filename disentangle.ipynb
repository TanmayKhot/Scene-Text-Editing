{
  "nbformat": 4,
  "nbformat_minor": 0,
  "metadata": {
    "colab": {
      "name": "disentangle.ipynb",
      "provenance": []
    },
    "kernelspec": {
      "name": "python3",
      "display_name": "Python 3"
    },
    "language_info": {
      "name": "python"
    }
  },
  "cells": [
    {
      "cell_type": "code",
      "metadata": {
        "id": "95KPloxzR5n-"
      },
      "source": [
        "import numpy as np\n",
        "import torch\n",
        "import torch.nn as nn\n",
        "import torch.nn.functional as F\n",
        "import torch.optim as optim\n",
        "import matplotlib.pyplot as plt\n",
        "from torch.utils.data.sampler import SubsetRandomSampler\n",
        "from torch.utils.data import DataLoader\n",
        "from torchvision import datasets, transforms\n",
        "import matplotlib.pyplot as plt\n",
        "%matplotlib inline\n",
        "import torch.nn as nn\n",
        "import torch.nn.functional as F\n",
        "\n",
        "import cv2"
      ],
      "execution_count": 332,
      "outputs": []
    },
    {
      "cell_type": "code",
      "metadata": {
        "colab": {
          "base_uri": "https://localhost:8080/"
        },
        "id": "r4gqLMcDTWae",
        "outputId": "577e505b-5d38-4519-bd7c-f5d288e3dbbd"
      },
      "source": [
        "#load image\n",
        "c = cv2.imread(\"coloured.jpg\")\n",
        "m = cv2.imread(\"binmask.jpg\")\n",
        "#m3 = cv2.merge((m,m,m))\n",
        "\n",
        "#preprocess image\n",
        "transform = transforms.Compose(\n",
        "    [transforms.ToTensor(),\n",
        "     transforms.Normalize((0.5, 0.5, 0.5), (0.5, 0.5, 0.5))])\n",
        "\n",
        "#Dataloader\n",
        "print(m.shape)\n",
        "coloured = (transform(c)).unsqueeze(0)\n",
        "mask = (transform(m)).unsqueeze(0)\n"
      ],
      "execution_count": 333,
      "outputs": [
        {
          "output_type": "stream",
          "text": [
            "(64, 64, 3)\n"
          ],
          "name": "stdout"
        }
      ]
    },
    {
      "cell_type": "code",
      "metadata": {
        "colab": {
          "base_uri": "https://localhost:8080/"
        },
        "id": "zOnW20xdUCwJ",
        "outputId": "58d4384b-8aee-41bc-c4a7-c8fd34d7ac7d"
      },
      "source": [
        "mask.shape"
      ],
      "execution_count": 334,
      "outputs": [
        {
          "output_type": "execute_result",
          "data": {
            "text/plain": [
              "torch.Size([1, 3, 64, 64])"
            ]
          },
          "metadata": {
            "tags": []
          },
          "execution_count": 334
        }
      ]
    },
    {
      "cell_type": "code",
      "metadata": {
        "id": "JeBy36OJTcP9"
      },
      "source": [
        "class encoder(nn.Module):\n",
        "        def __init__(self):\n",
        "                super(encoder, self).__init__()\n",
        "                self.conv1 = nn.Conv2d(3,64, kernel_size=3)\n",
        "                self.conv2 = nn.Conv2d(64,32, kernel_size=3)\n",
        "                self.conv3 = nn.Conv2d(32,16, kernel_size=3)\n",
        "                \n",
        "                self.fc1 = nn.Linear(16*58*58, 1024)\n",
        "                self.fc2 = nn.Linear(1024,512)\n",
        "                self.fc3 = nn.Linear(512,256)\n",
        "                \n",
        "                self.upconv1 = nn.ConvTranspose2d(16, 32, 3, stride=1)\n",
        "                self.upconv2 = nn.ConvTranspose2d(32, 64, 3, stride=1)\n",
        "                self.upconv3 = nn.ConvTranspose2d(64, 3, 3, stride=1)\n",
        "   \n",
        "        def forward(self,x):\n",
        "                #Encodings\n",
        "                x = F.relu(self.conv1(x))\n",
        "                x = F.relu(self.conv2(x))\n",
        "                x = F.relu(self.conv3(x))\n",
        "                #print(\"X shape\", x.shape) # torch.Size([1, 16, 58, 58])\n",
        "                \n",
        "                #Style vector\n",
        "                x_style = torch.flatten(x, 1)\n",
        "                x_style = F.relu(self.fc1(x_style))\n",
        "                x_style = F.relu(self.fc2(x_style))\n",
        "                x_style = F.relu(self.fc3(x_style))\n",
        "                #print(\"Final X_Style: \", x_style.shape)\n",
        "\n",
        "                #Image \n",
        "                x_image = F.relu(self.upconv1(x))\n",
        "                x_image = F.relu(self.upconv2(x_image))\n",
        "                x_image = F.relu(self.upconv3(x_image))\n",
        "                #print(\"X_image shape:\", x_image.shape)\n",
        "\n",
        "                \n",
        "                return x_style, x_image\n",
        "\n",
        "\n",
        "\n"
      ],
      "execution_count": 335,
      "outputs": []
    },
    {
      "cell_type": "code",
      "metadata": {
        "id": "5c9YiNG57qEQ"
      },
      "source": [
        "class decoder(nn.Module):\n",
        "        def __init__(self):\n",
        "              super(decoder, self).__init__()\n",
        "              #Convert style for concat\n",
        "              self.fc0 = nn.Linear(256,512)\n",
        "\n",
        "              #Convert image for concat\n",
        "              self.conv1 = nn.Conv2d(3,64, kernel_size=3)\n",
        "              self.conv2 = nn.Conv2d(64,32, kernel_size=3)\n",
        "              self.conv3 = nn.Conv2d(32,16, kernel_size=3)\n",
        "              self.fc1 = nn.Linear(16*58*58, 1024)\n",
        "              self.fc2 = nn.Linear(1024,512)\n",
        "\n",
        "              #Convert image\n",
        "              self.fc3 = nn.Linear(1024, 1024)\n",
        "              self.fc4 = nn.Linear(1024, 1024)\n",
        "\n",
        "              self.upsample1 = nn.Upsample(scale_factor=2,mode='nearest')\n",
        "              self.upconv1 = nn.ConvTranspose2d(16, 16, 1, stride=1)\n",
        "              self.upsample2 = nn.Upsample(scale_factor=2,mode='nearest')\n",
        "              self.upconv2 = nn.ConvTranspose2d(16, 16, 1, stride=1)              \n",
        "              self.upsample3 = nn.Upsample(scale_factor=2,mode='nearest')\n",
        "              self.upconv3 = nn.ConvTranspose2d(16, 3, 1, stride=1)\n",
        "\n",
        "        def forward(self,x_style,x_image):\n",
        "              x1 = F.relu(self.fc0(x_style)) # 512 style\n",
        "                \n",
        "              x2 = F.relu(self.conv1(x_image))\n",
        "              x2 = F.relu(self.conv2(x2))\n",
        "              x2 = F.relu(self.conv3(x2))\n",
        "              x2 = torch.flatten(x2, 1)\n",
        "              x2 = F.relu(self.fc1(x2))\n",
        "              x2 = F.relu(self.fc2(x2))     # 512 image\n",
        "\n",
        "              x = torch.cat([x1,x2], dim=1) #Linear concatenate, output = [1,1024]\n",
        "\n",
        "              x = F.relu(self.fc3(x))\n",
        "              x = F.relu(self.fc4(x))\n",
        "              x = (torch.reshape(x, (16,8,8))).unsqueeze(dim=0)\n",
        "\n",
        "              x = self.upsample1(x)\n",
        "              x = F.relu(self.upconv1(x))\n",
        "              x = self.upsample2(x)\n",
        "              x = F.relu(self.upconv2(x))\n",
        "              x = self.upsample3(x)\n",
        "              x = F.relu(self.upconv3(x))\n",
        "\n",
        "              return x"
      ],
      "execution_count": 336,
      "outputs": []
    },
    {
      "cell_type": "code",
      "metadata": {
        "id": "S2TeS2G_XwCJ"
      },
      "source": [
        "enc = encoder()\n",
        "dec = decoder()\n",
        "\n",
        "criterion = nn.MSELoss()\n",
        "optimizer_enc = optim.Adam(enc.parameters(), lr=0.001)\n",
        "optimizer_dec = optim.Adam(dec.parameters(), lr=0.001)"
      ],
      "execution_count": 337,
      "outputs": []
    },
    {
      "cell_type": "code",
      "metadata": {
        "colab": {
          "base_uri": "https://localhost:8080/"
        },
        "id": "XzARWcH0WH_V",
        "outputId": "19d6358a-68d8-42cf-9fab-cf4998292543"
      },
      "source": [
        "#a = torch.randn(1,3,64,64)\n",
        "enc_style, enc_image = enc(coloured)\n",
        "\n",
        "output = deca(enc_style, enc_image)\n",
        "#output.shape"
      ],
      "execution_count": 338,
      "outputs": [
        {
          "output_type": "stream",
          "text": [
            "torch.Size([1, 16, 16, 16])\n"
          ],
          "name": "stdout"
        }
      ]
    },
    {
      "cell_type": "code",
      "metadata": {
        "colab": {
          "base_uri": "https://localhost:8080/"
        },
        "id": "sAxVqjR_7kgo",
        "outputId": "f045f1a6-1a02-4c34-d84f-5608e21d2bd9"
      },
      "source": [
        "\n",
        "output = deca(enc_style, enc_image)\n",
        "output.shape"
      ],
      "execution_count": 339,
      "outputs": [
        {
          "output_type": "stream",
          "text": [
            "torch.Size([1, 16, 16, 16])\n"
          ],
          "name": "stdout"
        },
        {
          "output_type": "execute_result",
          "data": {
            "text/plain": [
              "torch.Size([1, 3, 64, 64])"
            ]
          },
          "metadata": {
            "tags": []
          },
          "execution_count": 339
        }
      ]
    },
    {
      "cell_type": "code",
      "metadata": {
        "id": "zaa_OfTrUuj9"
      },
      "source": [
        "#Convert tensors to images\n",
        "\n",
        "outputimage = torchvision.transforms.ToPILImage()(output.squeeze(0))\n",
        "maskimage = torchvision.transforms.ToPILImage()(enc_image.squeeze(0))\n"
      ],
      "execution_count": 340,
      "outputs": []
    },
    {
      "cell_type": "code",
      "metadata": {
        "id": "Nsalol-EdTbN"
      },
      "source": [
        ""
      ],
      "execution_count": 340,
      "outputs": []
    },
    {
      "cell_type": "code",
      "metadata": {
        "colab": {
          "base_uri": "https://localhost:8080/",
          "height": 391
        },
        "id": "Yjh8fybjWdfk",
        "outputId": "6dee876e-e8e5-428c-f9ad-aec9a9f68677"
      },
      "source": [
        "\n",
        "for epoch in range(10):\n",
        "  #Training Encoder\n",
        "  optimizer_enc.zero_grad() \n",
        "\n",
        "  enc_style, enc_mask = enc(coloured)\n",
        "  loss_mask = criterion(enc_mask, mask)\n",
        "  loss_mask.backward()\n",
        "  optimizer_enc.step()\n",
        "\n",
        "  #Training Decoder\n",
        "  optimizer_dec.zero_grad() \n",
        "\n",
        "  output = dec(enc_style, enc_mask)\n",
        "  loss_output = criterion(output, coloured)\n",
        "  loss_output.backward()\n",
        "  optimizer_dec.step()\n",
        "\n",
        "\n"
      ],
      "execution_count": 341,
      "outputs": [
        {
          "output_type": "error",
          "ename": "RuntimeError",
          "evalue": "ignored",
          "traceback": [
            "\u001b[0;31m---------------------------------------------------------------------------\u001b[0m",
            "\u001b[0;31mRuntimeError\u001b[0m                              Traceback (most recent call last)",
            "\u001b[0;32m<ipython-input-341-bad8a29ada85>\u001b[0m in \u001b[0;36m<module>\u001b[0;34m()\u001b[0m\n\u001b[1;32m     14\u001b[0m   \u001b[0moutput\u001b[0m \u001b[0;34m=\u001b[0m \u001b[0mdec\u001b[0m\u001b[0;34m(\u001b[0m\u001b[0menc_style\u001b[0m\u001b[0;34m,\u001b[0m \u001b[0menc_mask\u001b[0m\u001b[0;34m)\u001b[0m\u001b[0;34m\u001b[0m\u001b[0;34m\u001b[0m\u001b[0m\n\u001b[1;32m     15\u001b[0m   \u001b[0mloss_output\u001b[0m \u001b[0;34m=\u001b[0m \u001b[0mcriterion\u001b[0m\u001b[0;34m(\u001b[0m\u001b[0moutput\u001b[0m\u001b[0;34m,\u001b[0m \u001b[0mcoloured\u001b[0m\u001b[0;34m)\u001b[0m\u001b[0;34m\u001b[0m\u001b[0;34m\u001b[0m\u001b[0m\n\u001b[0;32m---> 16\u001b[0;31m   \u001b[0mloss_output\u001b[0m\u001b[0;34m.\u001b[0m\u001b[0mbackward\u001b[0m\u001b[0;34m(\u001b[0m\u001b[0;34m)\u001b[0m\u001b[0;34m\u001b[0m\u001b[0;34m\u001b[0m\u001b[0m\n\u001b[0m\u001b[1;32m     17\u001b[0m   \u001b[0moptimizer_dec\u001b[0m\u001b[0;34m.\u001b[0m\u001b[0mstep\u001b[0m\u001b[0;34m(\u001b[0m\u001b[0;34m)\u001b[0m\u001b[0;34m\u001b[0m\u001b[0;34m\u001b[0m\u001b[0m\n\u001b[1;32m     18\u001b[0m \u001b[0;34m\u001b[0m\u001b[0m\n",
            "\u001b[0;32m/usr/local/lib/python3.7/dist-packages/torch/tensor.py\u001b[0m in \u001b[0;36mbackward\u001b[0;34m(self, gradient, retain_graph, create_graph, inputs)\u001b[0m\n\u001b[1;32m    243\u001b[0m                 \u001b[0mcreate_graph\u001b[0m\u001b[0;34m=\u001b[0m\u001b[0mcreate_graph\u001b[0m\u001b[0;34m,\u001b[0m\u001b[0;34m\u001b[0m\u001b[0;34m\u001b[0m\u001b[0m\n\u001b[1;32m    244\u001b[0m                 inputs=inputs)\n\u001b[0;32m--> 245\u001b[0;31m         \u001b[0mtorch\u001b[0m\u001b[0;34m.\u001b[0m\u001b[0mautograd\u001b[0m\u001b[0;34m.\u001b[0m\u001b[0mbackward\u001b[0m\u001b[0;34m(\u001b[0m\u001b[0mself\u001b[0m\u001b[0;34m,\u001b[0m \u001b[0mgradient\u001b[0m\u001b[0;34m,\u001b[0m \u001b[0mretain_graph\u001b[0m\u001b[0;34m,\u001b[0m \u001b[0mcreate_graph\u001b[0m\u001b[0;34m,\u001b[0m \u001b[0minputs\u001b[0m\u001b[0;34m=\u001b[0m\u001b[0minputs\u001b[0m\u001b[0;34m)\u001b[0m\u001b[0;34m\u001b[0m\u001b[0;34m\u001b[0m\u001b[0m\n\u001b[0m\u001b[1;32m    246\u001b[0m \u001b[0;34m\u001b[0m\u001b[0m\n\u001b[1;32m    247\u001b[0m     \u001b[0;32mdef\u001b[0m \u001b[0mregister_hook\u001b[0m\u001b[0;34m(\u001b[0m\u001b[0mself\u001b[0m\u001b[0;34m,\u001b[0m \u001b[0mhook\u001b[0m\u001b[0;34m)\u001b[0m\u001b[0;34m:\u001b[0m\u001b[0;34m\u001b[0m\u001b[0;34m\u001b[0m\u001b[0m\n",
            "\u001b[0;32m/usr/local/lib/python3.7/dist-packages/torch/autograd/__init__.py\u001b[0m in \u001b[0;36mbackward\u001b[0;34m(tensors, grad_tensors, retain_graph, create_graph, grad_variables, inputs)\u001b[0m\n\u001b[1;32m    145\u001b[0m     Variable._execution_engine.run_backward(\n\u001b[1;32m    146\u001b[0m         \u001b[0mtensors\u001b[0m\u001b[0;34m,\u001b[0m \u001b[0mgrad_tensors_\u001b[0m\u001b[0;34m,\u001b[0m \u001b[0mretain_graph\u001b[0m\u001b[0;34m,\u001b[0m \u001b[0mcreate_graph\u001b[0m\u001b[0;34m,\u001b[0m \u001b[0minputs\u001b[0m\u001b[0;34m,\u001b[0m\u001b[0;34m\u001b[0m\u001b[0;34m\u001b[0m\u001b[0m\n\u001b[0;32m--> 147\u001b[0;31m         allow_unreachable=True, accumulate_grad=True)  # allow_unreachable flag\n\u001b[0m\u001b[1;32m    148\u001b[0m \u001b[0;34m\u001b[0m\u001b[0m\n\u001b[1;32m    149\u001b[0m \u001b[0;34m\u001b[0m\u001b[0m\n",
            "\u001b[0;31mRuntimeError\u001b[0m: Trying to backward through the graph a second time, but the saved intermediate results have already been freed. Specify retain_graph=True when calling .backward() or autograd.grad() the first time."
          ]
        }
      ]
    },
    {
      "cell_type": "code",
      "metadata": {
        "id": "dSx-f3FvNnyf"
      },
      "source": [
        "\n",
        "criterion = nn.MSELoss()\n",
        "\n",
        "\n",
        "loss_style = criterion(output,coloured)\n",
        "loss_mask = criterion(enc_image, mask)\n",
        "\n",
        "print(\"Style loss = \", loss_style)\n",
        "print(\"Mask loss = \", loss_mask)"
      ],
      "execution_count": null,
      "outputs": []
    },
    {
      "cell_type": "code",
      "metadata": {
        "id": "bETcuyRuWJ2z"
      },
      "source": [
        ""
      ],
      "execution_count": null,
      "outputs": []
    },
    {
      "cell_type": "code",
      "metadata": {
        "id": "CaBvolYKWTpJ"
      },
      "source": [
        ""
      ],
      "execution_count": null,
      "outputs": []
    }
  ]
}