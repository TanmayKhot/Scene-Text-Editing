{
  "nbformat": 4,
  "nbformat_minor": 0,
  "metadata": {
    "accelerator": "GPU",
    "colab": {
      "name": "dataloader_latest.ipynb",
      "provenance": [],
      "toc_visible": true
    },
    "kernelspec": {
      "display_name": "vocc",
      "language": "python",
      "name": "vocc"
    },
    "language_info": {
      "codemirror_mode": {
        "name": "ipython",
        "version": 3
      },
      "file_extension": ".py",
      "mimetype": "text/x-python",
      "name": "python",
      "nbconvert_exporter": "python",
      "pygments_lexer": "ipython3",
      "version": "3.8.5"
    }
  },
  "cells": [
    {
      "cell_type": "code",
      "metadata": {
        "id": "Bg-MbbLGxVg0",
        "colab": {
          "base_uri": "https://localhost:8080/"
        },
        "outputId": "e3ac765d-cb3e-44a6-ca7b-9aa0f08d44b4"
      },
      "source": [
        "!unzip data.zip"
      ],
      "execution_count": null,
      "outputs": [
        {
          "output_type": "stream",
          "text": [
            "Archive:  data.zip\n",
            "replace data/masks1/00000.jpg? [y]es, [n]o, [A]ll, [N]one, [r]ename: "
          ],
          "name": "stdout"
        }
      ]
    },
    {
      "cell_type": "code",
      "metadata": {
        "id": "CsdAcvsAw6fm"
      },
      "source": [
        "styles_folder = './data/styles1/'\n",
        "masks_folder = './data/masks1/'"
      ],
      "execution_count": null,
      "outputs": []
    },
    {
      "cell_type": "code",
      "metadata": {
        "id": "iEKX1_wuxjgP",
        "colab": {
          "base_uri": "https://localhost:8080/"
        },
        "outputId": "0f83a4fc-d81a-4125-bdd4-fa9d0d8addfa"
      },
      "source": [
        "#@title\n",
        "!pip install piq"
      ],
      "execution_count": null,
      "outputs": [
        {
          "output_type": "stream",
          "text": [
            "Requirement already satisfied: piq in /usr/local/lib/python3.7/dist-packages (0.5.4)\n",
            "Requirement already satisfied: torchvision>=0.4.0 in /usr/local/lib/python3.7/dist-packages (from piq) (0.9.1+cu101)\n",
            "Requirement already satisfied: scipy>=1.3.3 in /usr/local/lib/python3.7/dist-packages (from piq) (1.4.1)\n",
            "Requirement already satisfied: gudhi>=3.2 in /usr/local/lib/python3.7/dist-packages (from piq) (3.4.1.post1)\n",
            "Requirement already satisfied: torch==1.8.1 in /usr/local/lib/python3.7/dist-packages (from torchvision>=0.4.0->piq) (1.8.1+cu101)\n",
            "Requirement already satisfied: numpy in /usr/local/lib/python3.7/dist-packages (from torchvision>=0.4.0->piq) (1.19.5)\n",
            "Requirement already satisfied: pillow>=4.1.1 in /usr/local/lib/python3.7/dist-packages (from torchvision>=0.4.0->piq) (7.1.2)\n",
            "Requirement already satisfied: typing-extensions in /usr/local/lib/python3.7/dist-packages (from torch==1.8.1->torchvision>=0.4.0->piq) (3.7.4.3)\n"
          ],
          "name": "stdout"
        }
      ]
    },
    {
      "cell_type": "code",
      "metadata": {
        "id": "Jg3gOXO0xMAo"
      },
      "source": [
        "#@title\n",
        "import os\n",
        "import cv2\n",
        "from PIL import Image\n",
        "\n",
        "from piq import ssim\n",
        "#from piqa import SSIM \n",
        "\n",
        "\n",
        "import numpy as np\n",
        "import torch\n",
        "import torch.nn as nn\n",
        "import torch.nn.functional as F\n",
        "import torch.optim as optim\n",
        "import matplotlib.pyplot as plt\n",
        "from torch.utils.data.sampler import SubsetRandomSampler\n",
        "from torch.utils.data import Dataset, DataLoader\n",
        "\n",
        "from torchvision import datasets, transforms\n",
        "import matplotlib.pyplot as plt\n",
        "%matplotlib inline\n",
        "import torch.nn as nn\n",
        "import torch.nn.functional as F\n",
        "\n",
        "import cv2\n",
        "torch.set_printoptions(precision=10)\n",
        "\n",
        "from IPython.display import display\n",
        "from PIL import Image\n",
        "\n",
        "\n"
      ],
      "execution_count": null,
      "outputs": []
    },
    {
      "cell_type": "code",
      "metadata": {
        "colab": {
          "base_uri": "https://localhost:8080/"
        },
        "id": "XdIofXyXxTO0",
        "outputId": "fde0d60f-ec05-46c4-c7bc-f0a0e417e245"
      },
      "source": [
        "#@title\n",
        "device = torch.device(\"cuda:0\" if torch.cuda.is_available() else \"cpu\")\n",
        "print(device)\n"
      ],
      "execution_count": null,
      "outputs": [
        {
          "output_type": "stream",
          "text": [
            "cpu\n"
          ],
          "name": "stdout"
        }
      ]
    },
    {
      "cell_type": "markdown",
      "metadata": {
        "id": "Q4H3YjaEifFs"
      },
      "source": [
        "# Display Functions"
      ]
    },
    {
      "cell_type": "code",
      "metadata": {
        "id": "9GfV6CFqxTMC"
      },
      "source": [
        ""
      ],
      "execution_count": null,
      "outputs": []
    },
    {
      "cell_type": "code",
      "metadata": {
        "id": "zOtHPOLjxU5E"
      },
      "source": [
        "#@title\n",
        "# Display results\n",
        "\n",
        "\n",
        "def display_losses(epoch, total_loss, loss_mask, loss_style, loss_12, loss_13):\n",
        "    print(\"Epoch = \", epoch)\n",
        "    print(\"Total Loss = {:.3f}\".format(total_loss.item()))\n",
        "    print(\"Mask Loss = {:.3f}\".format(loss_mask.item()))\n",
        "    print(\"Style Loss = {:.3f}\".format(loss_style.item()))\n",
        "    print(\"12 Loss = {:.3f}\".format(loss_12.item()))\n",
        "    print(\"13 Loss = {:.3f}\".format(loss_13.item()))\n",
        "    print(\"Same Style Loss = {:.3f}\".format(loss_samestyle.item()))\n",
        "    print(\"Same mask Loss = {:.3f}\".format(loss_samemask.item()))    \n",
        "    return\n",
        "\n",
        "def display_epoch_losses(epochs, losses):\n",
        "    x = list(range(epochs))\n",
        "    return plt.plot(x,losses)\n",
        "\n",
        "def display_images(image,mask,recon,flag=0):\n",
        "    \n",
        "    image = torch.clamp(image, 0, 1)\n",
        "    mask = torch.clamp(mask, 0, 1)\n",
        "    if mask.shape[1] == 1:\n",
        "        mask = mask.repeat(1,3,1,1)\n",
        "    recon = torch.clamp(recon, 0, 1)\n",
        "    \n",
        "    if flag == 1:\n",
        "        print(\"SSIM Score = {:.3f}\".format( ssim(mask, recon).item()))\n",
        "    else:\n",
        "        print(\"SSIM Score = {:.3f}\".format( ssim(image, recon).item()))\n",
        "    \n",
        "    image = transforms.ToPILImage()(image.squeeze())\n",
        "    mask = transforms.ToPILImage()(mask.squeeze())\n",
        "    recon = transforms.ToPILImage()(recon.squeeze())\n",
        "    \n",
        "    fig =plt.figure(figsize=(5,5))\n",
        "    fig.add_subplot(1,3,1);plt.imshow(image)\n",
        "    fig.add_subplot(1,3,2);plt.imshow(mask)\n",
        "    fig.add_subplot(1,3,3);plt.imshow(recon)\n",
        "\n",
        "    plt.show()    \n",
        "\n",
        "    \n",
        "\n",
        "def display_all(gt_image, out_mask, out_image,\n",
        "                gt_ss_image, ss_out_mask, ss_out_image,\n",
        "                gt_sm_image, sm_out_mask, sm_out_image,\n",
        "                out12_image, out13_image\n",
        "               ):\n",
        "    print(\"Base Image (Image 1)\")\n",
        "    display_images(gt_image, out_mask, out_image)\n",
        "    \n",
        "    print(\"\\nSame Style (Image 2)\")\n",
        "    display_images(gt_ss_image, ss_out_mask, ss_out_image)\n",
        "    \n",
        "    print(\"\\nSame Mask (Image 3)\")\n",
        "    display_images(gt_sm_image, sm_out_mask, sm_out_image)\n",
        "    \n",
        "    print(\"\\nFirst Image style + Second Image Mask --> Expected Image 2, (Same style different mask)\")\n",
        "    display_images(gt_image, gt_ss_image, out12_image, flag=1)\n",
        "    \n",
        "    print(\"\\nThird Image style + First Image Mask --> Expected Image 3 (Differnet style same mask)\")\n",
        "    display_images(gt_sm_image, gt_image, out13_image)\n",
        "    \n",
        "    return\n"
      ],
      "execution_count": null,
      "outputs": []
    },
    {
      "cell_type": "code",
      "metadata": {
        "id": "Kwxn6oZbxMAv"
      },
      "source": [
        ""
      ],
      "execution_count": null,
      "outputs": []
    },
    {
      "cell_type": "code",
      "metadata": {
        "id": "Yue6m-X4VxUm"
      },
      "source": [
        "#@title\n",
        "transform = transforms.Compose(\n",
        "    [transforms.ToTensor()\n",
        "     ])\n",
        "\n",
        "\n",
        "def get_imagetensor(location, mask=0):\n",
        "    \n",
        "    image = cv2.imread(location)\n",
        "    if mask == 0:\n",
        "        image = cv2.cvtColor(image, cv2.COLOR_BGR2RGB)\n",
        "        image_tensor = transform(image).unsqueeze(0)\n",
        "\n",
        "    elif mask == 1:\n",
        "        image_tensor = transform(image).unsqueeze(0)\n",
        "        image_tensor = image_tensor.mean(axis=1).unsqueeze(0)\n",
        "        \n",
        "    return image_tensor"
      ],
      "execution_count": null,
      "outputs": []
    },
    {
      "cell_type": "code",
      "metadata": {
        "id": "JIwzF5-YwpaC"
      },
      "source": [
        ""
      ],
      "execution_count": null,
      "outputs": []
    },
    {
      "cell_type": "code",
      "metadata": {
        "id": "xvoR0JV4yULY"
      },
      "source": [
        "#@title\n",
        "def test(style_image, mask):\n",
        "  style = get_imagetensor(style_image)\n",
        "  mask = get_imagetensor(mask, mask=1)\n",
        "  style = style.to(device)\n",
        "  mask = mask.to(device)\n",
        "  modell = model.to(device)\n",
        "  style_vector , output_mask = modell.enc(style)\n",
        "  result = modell.dec(style_vector, mask)\n",
        "  #print(style_image.shape)\n",
        "  display_images(style, mask, result)\n",
        "\n",
        "  return"
      ],
      "execution_count": null,
      "outputs": []
    },
    {
      "cell_type": "code",
      "metadata": {
        "id": "kAfWJJIkyUIm"
      },
      "source": [
        ""
      ],
      "execution_count": null,
      "outputs": []
    },
    {
      "cell_type": "markdown",
      "metadata": {
        "id": "w7cTC5_UTiXV"
      },
      "source": [
        "# Custom Dataset"
      ]
    },
    {
      "cell_type": "code",
      "metadata": {
        "id": "9jJpgUCwwpXT"
      },
      "source": [
        "#@title\n",
        "class mydata(Dataset):\n",
        "\n",
        "  def __init__(self, styles_folder, masks_folder):\n",
        "    self.styles = os.listdir(styles_folder) # Path to folder containing all styles\n",
        "    self.styles.append(self.styles[0]) \n",
        "    self.masks = os.listdir(masks_folder) # Path to Masks\n",
        "    self.masks.sort()\n",
        "    self.masks.append(self.masks[0])\n",
        "\n",
        "    self.styles_loc = styles_folder #Style names\n",
        "    self.masks_loc = masks_folder\n",
        "\n",
        "  def getlen(self):\n",
        "    return len(self.styles)-1, len(self.masks)-1  \n",
        "\n",
        "  def __len__(self):\n",
        "    return len(self.styles)-1 * len(self.masks)-1\n",
        "\n",
        "  def __getitem__(self, pos):\n",
        "    si , ii = pos\n",
        "    s1_loc = self.styles_loc + self.styles[si] + '/' # Style 1 images\n",
        "    s2_loc = self.styles_loc + self.styles[si+1] + '/' # Style 2 images\n",
        "    \n",
        "    s1_images = os.listdir(s1_loc)\n",
        "    s1_images.sort()\n",
        "    s1_images.append(s1_images[0])\n",
        "    \n",
        "    s2_images = os.listdir(s2_loc)\n",
        "    s2_images.sort()\n",
        "    s2_images.append(s2_images[0])\n",
        "    \n",
        "    base_image_loc = s1_loc + s1_images[ii]\n",
        "    base_mask_loc = self.masks_loc + self.masks[ii]       \n",
        "    samestyle_image_loc = s1_loc + s1_images[ii+1]\n",
        "    samestyle_mask_loc = self.masks_loc + self.masks[ii+1]        \n",
        "    samemask_image_loc = s2_loc + s2_images[ii]\n",
        "    samemask_mask_loc = self.masks_loc + self.masks[ii]\n",
        "\n",
        "    gt_base_image = get_imagetensor(base_image_loc)\n",
        "    gt_base_mask = get_imagetensor(base_mask_loc, mask=1)\n",
        "    gt_ss_image = get_imagetensor(samestyle_image_loc)\n",
        "    gt_ss_mask = get_imagetensor(samestyle_mask_loc, mask=1)        \n",
        "    gt_sm_image = get_imagetensor(samemask_image_loc)\n",
        "    gt_sm_mask = get_imagetensor(samemask_mask_loc, mask=1)\n",
        "\n",
        "    return gt_base_image, gt_base_mask, gt_ss_image, gt_ss_mask, gt_sm_image, gt_sm_mask\n"
      ],
      "execution_count": null,
      "outputs": []
    },
    {
      "cell_type": "code",
      "metadata": {
        "id": "zxugXy7RwpVD"
      },
      "source": [
        ""
      ],
      "execution_count": null,
      "outputs": []
    },
    {
      "cell_type": "code",
      "metadata": {
        "id": "1fFxVgxpxMAx"
      },
      "source": [
        ""
      ],
      "execution_count": null,
      "outputs": []
    },
    {
      "cell_type": "markdown",
      "metadata": {
        "id": "-BiV_QRdTfRd"
      },
      "source": [
        "# Model"
      ]
    },
    {
      "cell_type": "code",
      "metadata": {
        "id": "TcWsaJqKxMAx"
      },
      "source": [
        "#@title\n",
        "class encoder(nn.Module):\n",
        "        def __init__(self):\n",
        "                super(encoder, self).__init__()\n",
        "                self.conv1 = nn.Conv2d(3,64, kernel_size=3)\n",
        "                self.conv2 = nn.Conv2d(64,32, kernel_size=3)\n",
        "                self.conv3 = nn.Conv2d(32,16, kernel_size=3)\n",
        "                \n",
        "                self.conv1d1 = nn.Conv1d(16*58*58, 1024, kernel_size=1)\n",
        "                self.conv1d2 = nn.Conv1d(1024,512, kernel_size=1)\n",
        "                self.conv1d3 = nn.Conv1d(512,256, kernel_size=1)\n",
        "\n",
        "                self.upconv1 = nn.ConvTranspose2d(16, 32, kernel_size=3, stride=1)\n",
        "                self.upconv2 = nn.ConvTranspose2d(32, 64, kernel_size=3, stride=1)\n",
        "                self.upconv3 = nn.ConvTranspose2d(64, 1, kernel_size=3, stride=1)\n",
        "                \n",
        "   \n",
        "        def forward(self,x):\n",
        "                #Encodings\n",
        "                x = F.relu(self.conv1(x))\n",
        "                x = F.relu(self.conv2(x))\n",
        "                x = F.relu(self.conv3(x))\n",
        "                #print(\"X shape\", x.shape) # torch.Size([1, 16, 58, 58])\n",
        "                \n",
        "                #Style vector\n",
        "                x_style = torch.flatten(x,1)\n",
        "                x_style = x_style.unsqueeze(-1)\n",
        "                x_style = F.relu(self.conv1d1(x_style))\n",
        "                x_style = F.relu(self.conv1d2(x_style))\n",
        "                #x_style = F.relu(self.conv1d3(x_style)) # COnverts 512 -> 256\n",
        "\n",
        "                #Image \n",
        "                x_image = F.relu(self.upconv1(x))\n",
        "                x_image = F.relu(self.upconv2(x_image))\n",
        "                x_image = self.upconv3(x_image)\n",
        "            \n",
        "#                 x_style = inverse_normalization(x_style)\n",
        "#                 x_image = inverse_normalization(x_image)\n",
        "                \n",
        "#                 x_image = inverse_normalization(x_image)\n",
        "                \n",
        "                return x_style, x_image\n",
        "\n",
        "\n",
        "\n"
      ],
      "execution_count": null,
      "outputs": []
    },
    {
      "cell_type": "code",
      "metadata": {
        "id": "2WWOLLiaxMAy"
      },
      "source": [
        ""
      ],
      "execution_count": null,
      "outputs": []
    },
    {
      "cell_type": "code",
      "metadata": {
        "id": "Vi6w3z3TxMAy"
      },
      "source": [
        "#@title\n",
        "class decoder(nn.Module):\n",
        "        def __init__(self):\n",
        "              super(decoder, self).__init__()\n",
        "                  \n",
        "              #Convert style for concat\n",
        "              self.conv1d0 = nn.Conv1d(256,512, kernel_size=1)\n",
        "\n",
        "              #Convert image for concat\n",
        "              self.conv1 = nn.Conv2d(1,64, kernel_size=3)\n",
        "              self.conv2 = nn.Conv2d(64,32, kernel_size=3)\n",
        "              self.conv3 = nn.Conv2d(32,16, kernel_size=3)\n",
        "              self.conv1d1 = nn.Conv1d(16*58*58, 1024, kernel_size=1)\n",
        "              self.conv1d2 = nn.Conv1d(1024,512, kernel_size=1)\n",
        "\n",
        "              #Convert image\n",
        "              self.conv1d3 = nn.Conv1d(1024, 1024, kernel_size=1)\n",
        "              self.conv1d4 = nn.Conv1d(1024, 1024, kernel_size=1)\n",
        "\n",
        "              #Using Upsample + Upconv\n",
        "   \n",
        "              self.upsample1 = nn.Upsample(scale_factor=2,mode='nearest')\n",
        "              self.upconv1 = nn.ConvTranspose2d(16, 16, 1, stride=1)\n",
        "              self.upsample2 = nn.Upsample(scale_factor=2,mode='nearest')\n",
        "              self.upconv2 = nn.ConvTranspose2d(16, 16, 1, stride=1)              \n",
        "              self.upsample3 = nn.Upsample(scale_factor=2,mode='nearest')\n",
        "              self.upconv3 = nn.ConvTranspose2d(16, 3, 1, stride=1)\n",
        "\n",
        "              self.upconv4 = nn.ConvTranspose2d(16, 12, 1, stride=1)\n",
        "       \n",
        "              \n",
        "                \n",
        "\n",
        "        def forward(self,x_style,x_image):\n",
        "              \n",
        "#               x_image /= 255.0 \n",
        "              #x_style = torch.from_numpy(x_style)\n",
        "              #x_image = torch.from_numpy(x_image)\n",
        "                \n",
        "              #x1 = F.relu(self.conv1d0(x_style)) # 512 style\n",
        "              x1 = x_style\n",
        "            \n",
        "              x2 = F.relu(self.conv1(x_image))\n",
        "              x2 = F.relu(self.conv2(x2))\n",
        "              x2 = F.relu(self.conv3(x2))\n",
        "              x2 = torch.flatten(x2, 1)\n",
        "              x2 = x2.unsqueeze(-1)\n",
        "              x2 = F.relu(self.conv1d1(x2))\n",
        "              x2 = F.relu(self.conv1d2(x2))     # 512 image\n",
        "\n",
        "              x = torch.cat([x1,x2], dim=1) #Linear concatenate, output = [1,1024]\n",
        "\n",
        "              x = F.relu(self.conv1d3(x))\n",
        "              x = F.relu(self.conv1d4(x))\n",
        "              x = (torch.reshape(x, (16,8,8))).unsqueeze(dim=0)\n",
        "\n",
        "              x = self.upsample1(x)\n",
        "              x = F.relu(self.upconv1(x))\n",
        "              x = self.upsample2(x)\n",
        "              x = F.relu(self.upconv2(x))\n",
        "              x = F.relu(self.upconv4(x))\n",
        "              ps = nn.PixelShuffle(2)\n",
        "              x = ps(x)\n",
        "              #print(\"Res\", x.shape)\n",
        "              #x = self.upsample3(x)\n",
        "              #x = self.upconv3(x)\n",
        "\n",
        "#               x = inverse_normalization(x)\n",
        "            \n",
        "              return x\n"
      ],
      "execution_count": null,
      "outputs": []
    },
    {
      "cell_type": "code",
      "metadata": {
        "id": "kQ_OuYmpxMA0"
      },
      "source": [
        ""
      ],
      "execution_count": null,
      "outputs": []
    },
    {
      "cell_type": "code",
      "metadata": {
        "id": "YcGNPDPtxMA0"
      },
      "source": [
        "#@title\n",
        "class MyModel(nn.Module):\n",
        "    def __init__(self, enc, dec):\n",
        "      super(MyModel, self).__init__()\n",
        "      self.enc = enc\n",
        "      self.dec = dec\n",
        "\n",
        "    def forward(self, x):\n",
        "      style, output_mask = self.enc(x)\n",
        "      output_img = self.dec(style, output_mask)\n",
        "      return output_img, output_mask, style\n"
      ],
      "execution_count": null,
      "outputs": []
    },
    {
      "cell_type": "markdown",
      "metadata": {
        "id": "rc9f1zr0TYrD"
      },
      "source": [
        "# Load Data"
      ]
    },
    {
      "cell_type": "code",
      "metadata": {
        "cellView": "form",
        "colab": {
          "base_uri": "https://localhost:8080/"
        },
        "id": "NLzt6YwuRtt4",
        "outputId": "8684bc3c-79f7-4f40-f2f8-1ce54cda3ecb"
      },
      "source": [
        "#@title\n",
        "data = mydata(styles_folder, masks_folder)\n",
        "len_styles , len_images = data.getlen()\n",
        "len_styles , len_images"
      ],
      "execution_count": null,
      "outputs": [
        {
          "output_type": "execute_result",
          "data": {
            "text/plain": [
              "(5, 3)"
            ]
          },
          "metadata": {
            "tags": []
          },
          "execution_count": 45
        }
      ]
    },
    {
      "cell_type": "markdown",
      "metadata": {
        "id": "xbSRLIQqTJ6K"
      },
      "source": [
        "# Initialize Model and Hyperparameters\n"
      ]
    },
    {
      "cell_type": "code",
      "metadata": {
        "id": "fXvJWMbNxMA0"
      },
      "source": [
        "enc = encoder()\n",
        "dec = decoder()\n",
        "model = MyModel(enc,dec).to(device)\n",
        "model = model.to(device)\n",
        "\n",
        "lr = 0.0001\n",
        "criterionmse = nn.MSELoss()\n",
        "criterion = nn.L1Loss()\n",
        "#criterion = ssim_loss\n",
        "optimizer = optim.Adam(model.parameters(), lr=lr)\n",
        "\n",
        "def hinge(x,y):\n",
        "  threshold = torch.tensor([-0.4]).to(device)\n",
        "  x = x/x.max()\n",
        "  y = y/y.max()\n",
        "  res = criterionmse(x,y)\n",
        "  if -res < threshold:\n",
        "    res = threshold\n",
        "  else:\n",
        "    res = -res\n",
        "  #print(\"Thres \",threshold)\n",
        "  return -threshold + res\n",
        "\n",
        "def cosine(x,y):\n",
        "  cos = nn.CosineSimilarity(dim=1)\n",
        "  output = cos(x, y)\n",
        "  return 1-output"
      ],
      "execution_count": null,
      "outputs": []
    },
    {
      "cell_type": "code",
      "metadata": {
        "id": "4uObOo7LxMA1"
      },
      "source": [
        ""
      ],
      "execution_count": null,
      "outputs": []
    },
    {
      "cell_type": "code",
      "metadata": {
        "cellView": "form",
        "colab": {
          "base_uri": "https://localhost:8080/"
        },
        "id": "mOIXV_-yxMA1",
        "outputId": "707e3e42-e8ec-43c3-ebd0-5cd8f796b893"
      },
      "source": [
        "#@title\n",
        "all(p.is_cuda for p in model.parameters())"
      ],
      "execution_count": null,
      "outputs": [
        {
          "output_type": "execute_result",
          "data": {
            "text/plain": [
              "False"
            ]
          },
          "metadata": {
            "tags": []
          },
          "execution_count": 47
        }
      ]
    },
    {
      "cell_type": "markdown",
      "metadata": {
        "id": "PZV1_68TTGcS"
      },
      "source": [
        "# Train"
      ]
    },
    {
      "cell_type": "code",
      "metadata": {
        "colab": {
          "base_uri": "https://localhost:8080/"
        },
        "id": "pWxIG1AwxMA1",
        "outputId": "2d54ac8d-dac6-4f86-d3c7-74cf49ffca70"
      },
      "source": [
        "num_epochs = 40\n",
        "\n",
        "epoch_losses = []\n",
        "\n",
        "for epoch in range(num_epochs):\n",
        "    \n",
        "    epoch_loss = 0\n",
        "    if epoch > 30:\n",
        "      lr = 0.0001\n",
        "    \n",
        "    for i in range(len_styles): # Number of styles \n",
        "    \n",
        "        for j in range(len_images): # Number of images per style\n",
        "            index = (i,j)\n",
        "            gt_base_image, gt_base_mask, gt_ss_image, gt_ss_mask, gt_sm_image, gt_sm_mask = data[index]\n",
        "            gt_base_image = gt_base_image.to(device)\n",
        "            gt_base_mask = gt_base_mask.to(device)\n",
        "            gt_ss_image = gt_ss_image.to(device)\n",
        "            gt_ss_mask = gt_ss_mask.to(device)\n",
        "            gt_sm_image = gt_sm_image.to(device)\n",
        "            gt_sm_mask = gt_sm_mask.to(device)\n",
        "            \n",
        "            optimizer.zero_grad() \n",
        "    \n",
        "            # Full pass\n",
        "            out_image, out_mask, out_style = model(gt_base_image)\n",
        "            ss_out_image, ss_out_mask, ss_out_style = model(gt_ss_image)\n",
        "            sm_out_image, sm_out_mask, sm_out_style = model(gt_sm_image)\n",
        "    \n",
        "            # Reconstruction/Style loss\n",
        "            loss_out_style = criterion(out_image.squeeze(0), gt_base_image)\n",
        "            loss_ss_out_style = criterion(ss_out_image.squeeze(0), gt_ss_image)    \n",
        "            loss_sm_out_style = criterion(sm_out_image.squeeze(0), gt_sm_image)\n",
        "            loss_style = loss_out_style + loss_ss_out_style + loss_sm_out_style\n",
        "    \n",
        "            # Mask Loss\n",
        "            loss_out_mask = criterion(out_mask.squeeze(0), gt_base_mask)\n",
        "            loss_ss_out_mask = criterion(ss_out_mask.squeeze(0), gt_ss_mask)    \n",
        "            loss_sm_out_mask = criterion(sm_out_mask.squeeze(0), gt_base_mask) # Same mask\n",
        "            loss_mask = loss_out_mask + loss_ss_out_mask + loss_sm_out_mask\n",
        "    \n",
        "            # First Image style (Blue) + Second Image Mask (Zero) --> Expected Image 2 i.e samestyle image\n",
        "            out12_image = model.dec(out_style, ss_out_mask)\n",
        "            loss_12 = criterion(out12_image.squeeze(0), gt_ss_image)\n",
        "    \n",
        "            # Third Image style (Green) + First Image Mask (H) --> Expected Image 3 i.e samemask image\n",
        "            out13_image = model.dec(sm_out_style, out_mask)\n",
        "            loss_13 = criterion(out13_image.squeeze(0), gt_sm_image)\n",
        "    \n",
        "            # Same style vector loss\n",
        "            loss_samestyle = criterion(out_style, ss_out_style)\n",
        "    \n",
        "            # Same mask loss\n",
        "            loss_samemask = criterion(out_mask, sm_out_mask)\n",
        "\n",
        "            # Hinge/Cosine Distance for different styles\n",
        "            loss_distance_styles = hinge(out_style, sm_out_style)\n",
        "            #print(\"Result 2 \",loss_distance_styles)\n",
        "            total_loss = loss_style + loss_mask + loss_12 + loss_13 + loss_samestyle + loss_samemask + loss_distance_styles\n",
        "\n",
        "            epoch_loss += total_loss\n",
        "            \n",
        "            \n",
        "            #display_losses(epoch, total_loss, loss_mask, loss_style, loss_12, loss_13)\n",
        "            #loss.append(total_loss.item())\n",
        "            \n",
        "            total_loss.backward()\n",
        "            optimizer.step()\n",
        "            #print(\"IMAGE \", out_image.max().item() , \" =========== \", sm_out_image.max().item())\n",
        "            #print(\"STYLE \", out_style.max().item() , \" =========== \", sm_out_style.max().item(), \"\\n\")\n",
        "\n",
        "    #print(\"Epoch: \", epoch, \" Loss: \", epoch_loss.item())\n",
        "    print(\"Epoch: \", epoch, \" Loss: \", epoch_loss.item(),\"distance loss: \", loss_distance_styles.item() )   \n",
        "    epoch_losses.append(epoch_loss.item()) \n",
        "\n",
        "    "
      ],
      "execution_count": null,
      "outputs": [
        {
          "output_type": "stream",
          "text": [
            "/usr/local/lib/python3.7/dist-packages/torch/nn/modules/loss.py:96: UserWarning: Using a target size (torch.Size([1, 3, 64, 64])) that is different to the input size (torch.Size([3, 64, 64])). This will likely lead to incorrect results due to broadcasting. Please ensure they have the same size.\n",
            "  return F.l1_loss(input, target, reduction=self.reduction)\n",
            "/usr/local/lib/python3.7/dist-packages/torch/nn/modules/loss.py:96: UserWarning: Using a target size (torch.Size([1, 1, 64, 64])) that is different to the input size (torch.Size([1, 64, 64])). This will likely lead to incorrect results due to broadcasting. Please ensure they have the same size.\n",
            "  return F.l1_loss(input, target, reduction=self.reduction)\n"
          ],
          "name": "stderr"
        },
        {
          "output_type": "stream",
          "text": [
            "Epoch:  0  Loss:  39.363677978515625 distance loss:  0.39747703075408936\n",
            "Epoch:  1  Loss:  31.498842239379883 distance loss:  0.3985792100429535\n",
            "Epoch:  2  Loss:  27.497211456298828 distance loss:  0.39161139726638794\n",
            "Epoch:  3  Loss:  24.608600616455078 distance loss:  0.39962518215179443\n",
            "Epoch:  4  Loss:  23.13904571533203 distance loss:  0.3998512625694275\n",
            "Epoch:  5  Loss:  22.299570083618164 distance loss:  0.3998318314552307\n",
            "Epoch:  6  Loss:  21.577106475830078 distance loss:  0.39979103207588196\n",
            "Epoch:  7  Loss:  21.069393157958984 distance loss:  0.39942270517349243\n",
            "Epoch:  8  Loss:  20.565380096435547 distance loss:  0.39427053928375244\n",
            "Epoch:  9  Loss:  20.054235458374023 distance loss:  0.39888712763786316\n",
            "Epoch:  10  Loss:  19.54608154296875 distance loss:  0.3940366208553314\n",
            "Epoch:  11  Loss:  19.140605926513672 distance loss:  0.3984551727771759\n",
            "Epoch:  12  Loss:  18.91657829284668 distance loss:  0.3915562927722931\n",
            "Epoch:  13  Loss:  18.810317993164062 distance loss:  0.3951249420642853\n",
            "Epoch:  14  Loss:  18.594974517822266 distance loss:  0.3905269205570221\n",
            "Epoch:  15  Loss:  18.349197387695312 distance loss:  0.3803172707557678\n",
            "Epoch:  16  Loss:  17.900781631469727 distance loss:  0.38166671991348267\n",
            "Epoch:  17  Loss:  17.516016006469727 distance loss:  0.3740828037261963\n",
            "Epoch:  18  Loss:  17.2232723236084 distance loss:  0.3591419458389282\n",
            "Epoch:  19  Loss:  16.93414306640625 distance loss:  0.3519839346408844\n",
            "Epoch:  20  Loss:  16.83964729309082 distance loss:  0.34983837604522705\n",
            "Epoch:  21  Loss:  16.531089782714844 distance loss:  0.3281039595603943\n",
            "Epoch:  22  Loss:  16.319137573242188 distance loss:  0.33596134185791016\n",
            "Epoch:  23  Loss:  16.045738220214844 distance loss:  0.32066765427589417\n",
            "Epoch:  24  Loss:  15.676542282104492 distance loss:  0.3146975636482239\n",
            "Epoch:  25  Loss:  15.299799919128418 distance loss:  0.29858529567718506\n",
            "Epoch:  26  Loss:  14.99831485748291 distance loss:  0.29266080260276794\n",
            "Epoch:  27  Loss:  14.764653205871582 distance loss:  0.28545060753822327\n",
            "Epoch:  28  Loss:  14.438928604125977 distance loss:  0.2674972116947174\n",
            "Epoch:  29  Loss:  14.213099479675293 distance loss:  0.24984216690063477\n",
            "Epoch:  30  Loss:  14.016372680664062 distance loss:  0.2515180706977844\n",
            "Epoch:  31  Loss:  13.942875862121582 distance loss:  0.24610382318496704\n",
            "Epoch:  32  Loss:  13.687712669372559 distance loss:  0.2297501564025879\n",
            "Epoch:  33  Loss:  13.340580940246582 distance loss:  0.2221488505601883\n",
            "Epoch:  34  Loss:  13.293999671936035 distance loss:  0.20826782286167145\n",
            "Epoch:  35  Loss:  13.348819732666016 distance loss:  0.20072318613529205\n",
            "Epoch:  36  Loss:  13.321380615234375 distance loss:  0.1956406682729721\n",
            "Epoch:  37  Loss:  12.937713623046875 distance loss:  0.1931247115135193\n",
            "Epoch:  38  Loss:  12.82470703125 distance loss:  0.18543888628482819\n",
            "Epoch:  39  Loss:  12.945367813110352 distance loss:  0.19056189060211182\n"
          ],
          "name": "stdout"
        }
      ]
    },
    {
      "cell_type": "code",
      "metadata": {
        "id": "YwT1VMsQL3W7",
        "colab": {
          "base_uri": "https://localhost:8080/"
        },
        "outputId": "57265a93-8b52-42dc-b934-6aca477db069"
      },
      "source": [
        "device"
      ],
      "execution_count": null,
      "outputs": [
        {
          "output_type": "execute_result",
          "data": {
            "text/plain": [
              "device(type='cpu')"
            ]
          },
          "metadata": {
            "tags": []
          },
          "execution_count": 49
        }
      ]
    },
    {
      "cell_type": "code",
      "metadata": {
        "id": "Qn8F10UJL3UM"
      },
      "source": [
        ""
      ],
      "execution_count": null,
      "outputs": []
    },
    {
      "cell_type": "markdown",
      "metadata": {
        "id": "U8px_lgbTD7y"
      },
      "source": [
        "# Results"
      ]
    },
    {
      "cell_type": "code",
      "metadata": {
        "id": "xvD8ivXTxMA4",
        "colab": {
          "base_uri": "https://localhost:8080/"
        },
        "outputId": "027be45b-43f0-4735-d9ad-7378747f96cd"
      },
      "source": [
        "print(\"Threshold: -0.45 Learning rate =\" ,lr)\n",
        "#print(\"Using cosine\")\n",
        "display_all(gt_base_image, out_mask, out_image,\n",
        "                gt_ss_image, ss_out_mask, ss_out_image,\n",
        "                gt_sm_image, sm_out_mask, sm_out_image,\n",
        "                out12_image, out13_image\n",
        "               )\n"
      ],
      "execution_count": null,
      "outputs": [
        {
          "output_type": "stream",
          "text": [
            "Threshold: -0.45 Learning rate = 0.0001\n",
            "Base Image (Image 1)\n",
            "SSIM Score = 0.561\n"
          ],
          "name": "stdout"
        },
        {
          "output_type": "display_data",
          "data": {
            "image/png": "[encoded data removed]",
            "text/plain": [
              "<Figure size 360x360 with 3 Axes>"
            ]
          },
          "metadata": {
            "tags": [],
            "needs_background": "light"
          }
        },
        {
          "output_type": "stream",
          "text": [
            "\n",
            "Same Style (Image 2)\n",
            "SSIM Score = 0.192\n"
          ],
          "name": "stdout"
        },
        {
          "output_type": "display_data",
          "data": {
            "image/png": "[encoded data removed]",
            "text/plain": [
              "<Figure size 360x360 with 3 Axes>"
            ]
          },
          "metadata": {
            "tags": [],
            "needs_background": "light"
          }
        },
        {
          "output_type": "stream",
          "text": [
            "\n",
            "Same Mask (Image 3)\n",
            "SSIM Score = 0.546\n"
          ],
          "name": "stdout"
        },
        {
          "output_type": "display_data",
          "data": {
            "image/png": "[encoded data removed]",
            "text/plain": [
              "<Figure size 360x360 with 3 Axes>"
            ]
          },
          "metadata": {
            "tags": [],
            "needs_background": "light"
          }
        },
        {
          "output_type": "stream",
          "text": [
            "\n",
            "First Image style + Second Image Mask --> Expected Image 2, (Same style different mask)\n",
            "SSIM Score = 0.192\n"
          ],
          "name": "stdout"
        },
        {
          "output_type": "display_data",
          "data": {
            "image/png": "[encoded data removed]",
            "text/plain": [
              "<Figure size 360x360 with 3 Axes>"
            ]
          },
          "metadata": {
            "tags": [],
            "needs_background": "light"
          }
        },
        {
          "output_type": "stream",
          "text": [
            "\n",
            "Third Image style + First Image Mask --> Expected Image 3 (Differnet style same mask)\n",
            "SSIM Score = 0.540\n"
          ],
          "name": "stdout"
        },
        {
          "output_type": "display_data",
          "data": {
            "image/png": "[encoded data removed]",
            "text/plain": [
              "<Figure size 360x360 with 3 Axes>"
            ]
          },
          "metadata": {
            "tags": [],
            "needs_background": "light"
          }
        }
      ]
    },
    {
      "cell_type": "code",
      "metadata": {
        "id": "AsQHAwKWxMA4",
        "colab": {
          "base_uri": "https://localhost:8080/"
        },
        "outputId": "ceaf5350-292f-464c-cde0-343241645765"
      },
      "source": [
        " \n",
        "  \n",
        "  \n",
        "display_epoch_losses(num_epochs,epoch_losses)"
      ],
      "execution_count": null,
      "outputs": [
        {
          "output_type": "execute_result",
          "data": {
            "text/plain": [
              "[<matplotlib.lines.Line2D at 0x7f69dffdbdd0>]"
            ]
          },
          "metadata": {
            "tags": []
          },
          "execution_count": 51
        },
        {
          "output_type": "display_data",
          "data": {
            "image/png": "[encoded data removed]",
            "text/plain": [
              "<Figure size 432x288 with 1 Axes>"
            ]
          },
          "metadata": {
            "tags": [],
            "needs_background": "light"
          }
        }
      ]
    },
    {
      "cell_type": "markdown",
      "metadata": {
        "id": "1MSShx-dS_ud"
      },
      "source": [
        "# Save Model"
      ]
    },
    {
      "cell_type": "code",
      "metadata": {
        "cellView": "form",
        "id": "7GleavL-GuTf"
      },
      "source": [
        "#@title\n",
        "torch.save({\n",
        "            'epoch': epoch,\n",
        "            'model_state_dict': model.state_dict(),\n",
        "            'optimizer_state_dict': optimizer.state_dict(),\n",
        "            'loss': total_loss\n",
        "            }, 'model_weights')"
      ],
      "execution_count": null,
      "outputs": []
    },
    {
      "cell_type": "code",
      "metadata": {
        "cellView": "form",
        "id": "hCSQ8nhdG2j3",
        "colab": {
          "base_uri": "https://localhost:8080/"
        },
        "outputId": "dc9ebe0f-07e3-47c6-8577-02737c9fc849"
      },
      "source": [
        "#@title\n",
        "model1 = MyModel(enc, dec)\n",
        "optimizer1 = optim.Adam(model.parameters(), lr=0.001)\n",
        "\n",
        "checkpoint = torch.load('model_weights')\n",
        "model.load_state_dict(checkpoint['model_state_dict'])\n",
        "optimizer.load_state_dict(checkpoint['optimizer_state_dict'])\n",
        "epoch = checkpoint['epoch']\n",
        "loss = checkpoint['loss']\n",
        "\n",
        "model.eval()\n",
        "# - or -\n",
        "model.train()"
      ],
      "execution_count": null,
      "outputs": [
        {
          "output_type": "execute_result",
          "data": {
            "text/plain": [
              "MyModel(\n",
              "  (enc): encoder(\n",
              "    (conv1): Conv2d(3, 64, kernel_size=(3, 3), stride=(1, 1))\n",
              "    (conv2): Conv2d(64, 32, kernel_size=(3, 3), stride=(1, 1))\n",
              "    (conv3): Conv2d(32, 16, kernel_size=(3, 3), stride=(1, 1))\n",
              "    (conv1d1): Conv1d(53824, 1024, kernel_size=(1,), stride=(1,))\n",
              "    (conv1d2): Conv1d(1024, 512, kernel_size=(1,), stride=(1,))\n",
              "    (conv1d3): Conv1d(512, 256, kernel_size=(1,), stride=(1,))\n",
              "    (upconv1): ConvTranspose2d(16, 32, kernel_size=(3, 3), stride=(1, 1))\n",
              "    (upconv2): ConvTranspose2d(32, 64, kernel_size=(3, 3), stride=(1, 1))\n",
              "    (upconv3): ConvTranspose2d(64, 1, kernel_size=(3, 3), stride=(1, 1))\n",
              "  )\n",
              "  (dec): decoder(\n",
              "    (conv1d0): Conv1d(256, 512, kernel_size=(1,), stride=(1,))\n",
              "    (conv1): Conv2d(1, 64, kernel_size=(3, 3), stride=(1, 1))\n",
              "    (conv2): Conv2d(64, 32, kernel_size=(3, 3), stride=(1, 1))\n",
              "    (conv3): Conv2d(32, 16, kernel_size=(3, 3), stride=(1, 1))\n",
              "    (conv1d1): Conv1d(53824, 1024, kernel_size=(1,), stride=(1,))\n",
              "    (conv1d2): Conv1d(1024, 512, kernel_size=(1,), stride=(1,))\n",
              "    (conv1d3): Conv1d(1024, 1024, kernel_size=(1,), stride=(1,))\n",
              "    (conv1d4): Conv1d(1024, 1024, kernel_size=(1,), stride=(1,))\n",
              "    (upsample1): Upsample(scale_factor=2.0, mode=nearest)\n",
              "    (upconv1): ConvTranspose2d(16, 16, kernel_size=(1, 1), stride=(1, 1))\n",
              "    (upsample2): Upsample(scale_factor=2.0, mode=nearest)\n",
              "    (upconv2): ConvTranspose2d(16, 16, kernel_size=(1, 1), stride=(1, 1))\n",
              "    (upsample3): Upsample(scale_factor=2.0, mode=nearest)\n",
              "    (upconv3): ConvTranspose2d(16, 3, kernel_size=(1, 1), stride=(1, 1))\n",
              "    (upconv4): ConvTranspose2d(16, 12, kernel_size=(1, 1), stride=(1, 1))\n",
              "  )\n",
              ")"
            ]
          },
          "metadata": {
            "tags": []
          },
          "execution_count": 53
        }
      ]
    },
    {
      "cell_type": "code",
      "metadata": {
        "cellView": "form",
        "id": "vrk_87WRHIcX",
        "colab": {
          "base_uri": "https://localhost:8080/"
        },
        "outputId": "7eb8ce7c-aaba-433b-fe7b-256b212e549e"
      },
      "source": [
        "#@title\n",
        "optimizer1.state_dict"
      ],
      "execution_count": null,
      "outputs": [
        {
          "output_type": "execute_result",
          "data": {
            "text/plain": [
              "<bound method Optimizer.state_dict of Adam (\n",
              "Parameter Group 0\n",
              "    amsgrad: False\n",
              "    betas: (0.9, 0.999)\n",
              "    eps: 1e-08\n",
              "    lr: 0.001\n",
              "    weight_decay: 0\n",
              ")>"
            ]
          },
          "metadata": {
            "tags": []
          },
          "execution_count": 54
        }
      ]
    },
    {
      "cell_type": "code",
      "metadata": {
        "id": "3QOlJUWi2_ct"
      },
      "source": [
        ""
      ],
      "execution_count": null,
      "outputs": []
    },
    {
      "cell_type": "markdown",
      "metadata": {
        "id": "_Eegy9IUS6gc"
      },
      "source": [
        "# Test\n"
      ]
    },
    {
      "cell_type": "code",
      "metadata": {
        "id": "49w0nZmOQd9E",
        "colab": {
          "base_uri": "https://localhost:8080/"
        },
        "outputId": "144777ed-b90b-41b1-85b0-8b881ad6f719"
      },
      "source": [
        "style_image = \"./data10/styles10/100_199/00107.jpg\"\n",
        "mask = \"./data10/masks10/00000.jpg\"\n",
        "test(style_image,mask)"
      ],
      "execution_count": null,
      "outputs": [
        {
          "output_type": "error",
          "ename": "error",
          "evalue": "ignored",
          "traceback": [
            "\u001b[0;31m---------------------------------------------------------------------------\u001b[0m",
            "\u001b[0;31merror\u001b[0m                                     Traceback (most recent call last)",
            "\u001b[0;32m<ipython-input-55-3b21c3eef4c1>\u001b[0m in \u001b[0;36m<module>\u001b[0;34m()\u001b[0m\n\u001b[1;32m      1\u001b[0m \u001b[0mstyle_image\u001b[0m \u001b[0;34m=\u001b[0m \u001b[0;34m\"./data10/styles10/100_199/00107.jpg\"\u001b[0m\u001b[0;34m\u001b[0m\u001b[0;34m\u001b[0m\u001b[0m\n\u001b[1;32m      2\u001b[0m \u001b[0mmask\u001b[0m \u001b[0;34m=\u001b[0m \u001b[0;34m\"./data10/masks10/00000.jpg\"\u001b[0m\u001b[0;34m\u001b[0m\u001b[0;34m\u001b[0m\u001b[0m\n\u001b[0;32m----> 3\u001b[0;31m \u001b[0mtest\u001b[0m\u001b[0;34m(\u001b[0m\u001b[0mstyle_image\u001b[0m\u001b[0;34m,\u001b[0m\u001b[0mmask\u001b[0m\u001b[0;34m)\u001b[0m\u001b[0;34m\u001b[0m\u001b[0;34m\u001b[0m\u001b[0m\n\u001b[0m",
            "\u001b[0;32m<ipython-input-40-0e2535261603>\u001b[0m in \u001b[0;36mtest\u001b[0;34m(style_image, mask)\u001b[0m\n\u001b[1;32m      1\u001b[0m \u001b[0;31m#@title\u001b[0m\u001b[0;34m\u001b[0m\u001b[0;34m\u001b[0m\u001b[0;34m\u001b[0m\u001b[0m\n\u001b[1;32m      2\u001b[0m \u001b[0;32mdef\u001b[0m \u001b[0mtest\u001b[0m\u001b[0;34m(\u001b[0m\u001b[0mstyle_image\u001b[0m\u001b[0;34m,\u001b[0m \u001b[0mmask\u001b[0m\u001b[0;34m)\u001b[0m\u001b[0;34m:\u001b[0m\u001b[0;34m\u001b[0m\u001b[0;34m\u001b[0m\u001b[0m\n\u001b[0;32m----> 3\u001b[0;31m   \u001b[0mstyle\u001b[0m \u001b[0;34m=\u001b[0m \u001b[0mget_imagetensor\u001b[0m\u001b[0;34m(\u001b[0m\u001b[0mstyle_image\u001b[0m\u001b[0;34m)\u001b[0m\u001b[0;34m\u001b[0m\u001b[0;34m\u001b[0m\u001b[0m\n\u001b[0m\u001b[1;32m      4\u001b[0m   \u001b[0mmask\u001b[0m \u001b[0;34m=\u001b[0m \u001b[0mget_imagetensor\u001b[0m\u001b[0;34m(\u001b[0m\u001b[0mmask\u001b[0m\u001b[0;34m,\u001b[0m \u001b[0mmask\u001b[0m\u001b[0;34m=\u001b[0m\u001b[0;36m1\u001b[0m\u001b[0;34m)\u001b[0m\u001b[0;34m\u001b[0m\u001b[0;34m\u001b[0m\u001b[0m\n\u001b[1;32m      5\u001b[0m   \u001b[0mstyle\u001b[0m \u001b[0;34m=\u001b[0m \u001b[0mstyle\u001b[0m\u001b[0;34m.\u001b[0m\u001b[0mto\u001b[0m\u001b[0;34m(\u001b[0m\u001b[0mdevice\u001b[0m\u001b[0;34m)\u001b[0m\u001b[0;34m\u001b[0m\u001b[0;34m\u001b[0m\u001b[0m\n",
            "\u001b[0;32m<ipython-input-39-b66d91430dfa>\u001b[0m in \u001b[0;36mget_imagetensor\u001b[0;34m(location, mask)\u001b[0m\n\u001b[1;32m      9\u001b[0m     \u001b[0mimage\u001b[0m \u001b[0;34m=\u001b[0m \u001b[0mcv2\u001b[0m\u001b[0;34m.\u001b[0m\u001b[0mimread\u001b[0m\u001b[0;34m(\u001b[0m\u001b[0mlocation\u001b[0m\u001b[0;34m)\u001b[0m\u001b[0;34m\u001b[0m\u001b[0;34m\u001b[0m\u001b[0m\n\u001b[1;32m     10\u001b[0m     \u001b[0;32mif\u001b[0m \u001b[0mmask\u001b[0m \u001b[0;34m==\u001b[0m \u001b[0;36m0\u001b[0m\u001b[0;34m:\u001b[0m\u001b[0;34m\u001b[0m\u001b[0;34m\u001b[0m\u001b[0m\n\u001b[0;32m---> 11\u001b[0;31m         \u001b[0mimage\u001b[0m \u001b[0;34m=\u001b[0m \u001b[0mcv2\u001b[0m\u001b[0;34m.\u001b[0m\u001b[0mcvtColor\u001b[0m\u001b[0;34m(\u001b[0m\u001b[0mimage\u001b[0m\u001b[0;34m,\u001b[0m \u001b[0mcv2\u001b[0m\u001b[0;34m.\u001b[0m\u001b[0mCOLOR_BGR2RGB\u001b[0m\u001b[0;34m)\u001b[0m\u001b[0;34m\u001b[0m\u001b[0;34m\u001b[0m\u001b[0m\n\u001b[0m\u001b[1;32m     12\u001b[0m         \u001b[0mimage_tensor\u001b[0m \u001b[0;34m=\u001b[0m \u001b[0mtransform\u001b[0m\u001b[0;34m(\u001b[0m\u001b[0mimage\u001b[0m\u001b[0;34m)\u001b[0m\u001b[0;34m.\u001b[0m\u001b[0munsqueeze\u001b[0m\u001b[0;34m(\u001b[0m\u001b[0;36m0\u001b[0m\u001b[0;34m)\u001b[0m\u001b[0;34m\u001b[0m\u001b[0;34m\u001b[0m\u001b[0m\n\u001b[1;32m     13\u001b[0m \u001b[0;34m\u001b[0m\u001b[0m\n",
            "\u001b[0;31merror\u001b[0m: OpenCV(4.1.2) /io/opencv/modules/imgproc/src/color.cpp:182: error: (-215:Assertion failed) !_src.empty() in function 'cvtColor'\n"
          ]
        }
      ]
    },
    {
      "cell_type": "code",
      "metadata": {
        "id": "b47yfUV3Qd4N"
      },
      "source": [
        ""
      ],
      "execution_count": null,
      "outputs": []
    },
    {
      "cell_type": "code",
      "metadata": {
        "id": "qhqk9_wEWBMs"
      },
      "source": [
        ""
      ],
      "execution_count": null,
      "outputs": []
    },
    {
      "cell_type": "code",
      "metadata": {
        "id": "X7fOoLDnxztE"
      },
      "source": [
        ""
      ],
      "execution_count": null,
      "outputs": []
    }
  ]
}